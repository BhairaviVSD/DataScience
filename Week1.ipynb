{
 "cells": [
  {
   "cell_type": "code",
   "execution_count": 4,
   "metadata": {},
   "outputs": [
    {
     "name": "stdout",
     "output_type": "stream",
     "text": [
      "[0, 1, 1, 2, 3, 5, 8, 13, 21, 34]\n"
     ]
    }
   ],
   "source": [
    "fibonacciSeries = []\n",
    "fibonacciSeries.append(0)\n",
    "fibonacciSeries.append(1)\n",
    "for i in range (2,10):\n",
    "    fibonacciSeries.append(fibonacciSeries[i-1]+fibonacciSeries[i-2])\n",
    "print(fibonacciSeries)"
   ]
  },
  {
   "cell_type": "code",
   "execution_count": 11,
   "metadata": {},
   "outputs": [
    {
     "name": "stdout",
     "output_type": "stream",
     "text": [
      "1\n",
      "3\n",
      "5\n",
      "7\n",
      "9\n"
     ]
    }
   ],
   "source": [
    "demoList = [0,1,2,3,4,5,6,7,8,9]\n",
    "for i in range (1,10,2):\n",
    "    print(demoList[i])"
   ]
  },
  {
   "cell_type": "code",
   "execution_count": 16,
   "metadata": {},
   "outputs": [
    {
     "name": "stdout",
     "output_type": "stream",
     "text": [
      "9\n",
      "8\n",
      "7\n",
      "6\n",
      "5\n",
      "4\n",
      "3\n",
      "2\n",
      "1\n"
     ]
    }
   ],
   "source": [
    "demoList = [0,1,2,3,4,5,6,7,8,9]\n",
    "for i in range (9,0,-1):\n",
    "    print(demoList[i])"
   ]
  },
  {
   "cell_type": "code",
   "execution_count": 57,
   "metadata": {},
   "outputs": [
    {
     "name": "stdout",
     "output_type": "stream",
     "text": [
      "{'then,', 'sentence', 'length', 'this', 'tips', 'reader', 'summarizes', 'provide', 'text', 'created', 'that', 'support', 'structure', 'has', 'concluding', 'specific', 'the', 'topic', 'clear', 'idea.', 'examples,', 'a', 'finally,', 'perfect!', 'engaged.', 'evidence.', 'keep', 'on', 'practice', 'main', 'end', 'vary', 'first,', 'strong', 'points.', 'to', 'with', 'interesting', 'chatgpt', 'start', 'details,', 'makes', 'paragraphs.', 'remember,', 'creating', 'and', 'introduces'}\n",
      "47\n"
     ]
    }
   ],
   "source": [
    "string = \"\"\"\n",
    "\tChatGPT has created this text to provide tips on creating interesting paragraphs. \n",
    "\tFirst, start with a clear topic sentence that introduces the main idea. \n",
    "\tThen, support the topic sentence with specific details, examples, and evidence.\n",
    "\tVary the sentence length and structure to keep the reader engaged.\n",
    "\tFinally, end with a strong concluding sentence that summarizes the main points.\n",
    "\tRemember, practice makes perfect!\n",
    "\t\"\"\"\n",
    "uniqueString = set(string.lower().split())\n",
    "\n",
    "print(uniqueString)\n",
    "print(len(uniqueString))"
   ]
  },
  {
   "cell_type": "code",
   "execution_count": 29,
   "metadata": {},
   "outputs": [
    {
     "name": "stdout",
     "output_type": "stream",
     "text": [
      "11\n"
     ]
    }
   ],
   "source": [
    "def vowelCounter(word: string):\n",
    "    vowels = ['a', 'e', 'i', 'o', 'u']\n",
    "    count = [letter for letter in word if letter in vowels]\n",
    "    return len(count)\n",
    "print(vowelCounter('Bhairavi Vijay Sawantdesai'.lower()))"
   ]
  },
  {
   "cell_type": "code",
   "execution_count": 31,
   "metadata": {},
   "outputs": [
    {
     "name": "stdout",
     "output_type": "stream",
     "text": [
      "TIGER\n",
      "ELEPHANT\n",
      "MONKEY\n",
      "ZEBRA\n",
      "PANTHER\n"
     ]
    }
   ],
   "source": [
    "animals=['tiger', 'elephant', 'monkey', 'zebra', 'panther']\n",
    "for x in animals:\n",
    "    print(x.upper())"
   ]
  },
  {
   "cell_type": "code",
   "execution_count": 41,
   "metadata": {},
   "outputs": [
    {
     "name": "stdout",
     "output_type": "stream",
     "text": [
      "1 :  Odd\n",
      "2 :  Even\n",
      "3 :  Odd\n",
      "4 :  Even\n",
      "5 :  Odd\n",
      "6 :  Even\n",
      "7 :  Odd\n",
      "8 :  Even\n",
      "9 :  Odd\n",
      "10 :  Even\n",
      "11 :  Odd\n",
      "12 :  Even\n",
      "13 :  Odd\n",
      "14 :  Even\n",
      "15 :  Odd\n"
     ]
    }
   ],
   "source": [
    "for i in range(1,16):\n",
    "    print(i, ': ', ('Even')if i%2==0 else ('Odd'))"
   ]
  },
  {
   "cell_type": "code",
   "execution_count": 51,
   "metadata": {},
   "outputs": [
    {
     "name": "stdout",
     "output_type": "stream",
     "text": [
      "3\n"
     ]
    }
   ],
   "source": [
    "a, b = map(int, input('Enter the two numbers').split())\n",
    "print(a+b)"
   ]
  },
  {
   "cell_type": "code",
   "execution_count": null,
   "metadata": {},
   "outputs": [],
   "source": []
  }
 ],
 "metadata": {
  "kernelspec": {
   "display_name": "Python 3.12.0 64-bit",
   "language": "python",
   "name": "python3"
  },
  "language_info": {
   "codemirror_mode": {
    "name": "ipython",
    "version": 3
   },
   "file_extension": ".py",
   "mimetype": "text/x-python",
   "name": "python",
   "nbconvert_exporter": "python",
   "pygments_lexer": "ipython3",
   "version": "3.12.0"
  },
  "orig_nbformat": 4,
  "vscode": {
   "interpreter": {
    "hash": "0953d0002e3db785b208af34ccc11bf44e113f765295e54b4e86f2b1a6941f38"
   }
  }
 },
 "nbformat": 4,
 "nbformat_minor": 2
}
